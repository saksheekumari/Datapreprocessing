{
 "cells": [
  {
   "cell_type": "markdown",
   "id": "803d5261",
   "metadata": {},
   "source": [
    "# 1. DATAPREPROCESSING"
   ]
  },
  {
   "cell_type": "code",
   "execution_count": 1,
   "id": "75fb1a76",
   "metadata": {},
   "outputs": [
    {
     "name": "stdout",
     "output_type": "stream",
     "text": [
      "Brack Obama is a prime minister of USA in the year of 2015. NARENDRA MODI is the prime minister of INDIA\n"
     ]
    }
   ],
   "source": [
    "input = \"Brack Obama is a prime minister of USA in the year of 2015. NARENDRA MODI is the prime minister of INDIA\"\n",
    "print(input)"
   ]
  },
  {
   "cell_type": "code",
   "execution_count": 2,
   "id": "764e71c3",
   "metadata": {},
   "outputs": [
    {
     "name": "stdout",
     "output_type": "stream",
     "text": [
      "LOWERCSE =  brack obama is a prime minister of usa in the year of 2015. narendra modi is the prime minister of india\n",
      "REGULAR EXP1 =  brack obama is a prime minister of usa in the year of 2025. narendra modi is the prime minister of india\n",
      "REGULAR EXP2 =  *r*** o**** *s * pr*** **n*st*r o* us* *n t** y**r o* 2015. n*r*n*r* *o** *s t** pr*** **n*st*r o* *n***\n",
      "REGULAR EXP3 =  brack obama is a prime minister of usa in the year of 2015. narendra modi is the prime minister of india\n"
     ]
    }
   ],
   "source": [
    "#(1)lowercase\n",
    "lowercase = input.lower()\n",
    "print(\"LOWERCSE = \", lowercase)\n",
    "\n",
    "#re\n",
    "#pip install re\n",
    "import re\n",
    "lowercase_re = re.sub('2015', '2025', lowercase)\n",
    "print(\"REGULAR EXP1 = \", lowercase_re)\n",
    "lowercase_re = re.sub('[a-m]', '*', lowercase)\n",
    "print(\"REGULAR EXP2 = \", lowercase_re)\n",
    "lowercase_re = re.sub('/d', '-', lowercase)\n",
    "print(\"REGULAR EXP3 = \", lowercase_re)"
   ]
  },
  {
   "cell_type": "code",
   "execution_count": null,
   "id": "1b241a00",
   "metadata": {},
   "outputs": [
    {
     "name": "stdout",
     "output_type": "stream",
     "text": [
      "WORD TOKENS =  ['Brack', 'Obama', 'is', 'a', 'prime', 'minister', 'of', 'USA', 'in', 'the', 'year', 'of', '2015', '.', 'NARENDRA', 'MODI', 'is', 'the', 'prime', 'minister', 'of', 'INDIA']\n",
      "22\n",
      "SENT TOKENS =  ['Brack Obama is a prime minister of USA in the year of 2015.', 'NARENDRA MODI is the prime minister of INDIA']\n",
      "2\n"
     ]
    }
   ],
   "source": [
    "#(2)Tokenization\n",
    "import nltk\n",
    "from nltk import word_tokenize, sent_tokenize\n",
    "\n",
    "word_tokens = word_tokenize(input)\n",
    "print(\"WORD TOKENS = \", word_tokens)\n",
    "print(len(word_tokens))\n",
    "sent_tokens = sent_tokenize(input)\n",
    "print(\"SENT TOKENS = \", sent_tokens)\n",
    "print(len(sent_tokens))"
   ]
  },
  {
   "cell_type": "code",
   "execution_count": null,
   "id": "6601161b",
   "metadata": {},
   "outputs": [
    {
     "name": "stdout",
     "output_type": "stream",
     "text": [
      "Brack Obama prime minister USA year 2015 . NARENDRA MODI prime minister INDIA\n"
     ]
    }
   ],
   "source": [
    "#(3)stopwords Removal\n",
    "from nltk.corpus import stopwords\n",
    "#print(stopwords.fileids())\n",
    "stopwords = set(stopwords.words('english'))\n",
    "#print(\"\\n\", stopwords)\n",
    "\n",
    "tokens_stopwords = []\n",
    "for token in word_tokens:\n",
    "    if token not in stopwords:\n",
    "        tokens_stopwords.append(token)\n",
    "print(' '.join(tokens_stopwords))"
   ]
  },
  {
   "cell_type": "code",
   "execution_count": null,
   "id": "da3bcc3d",
   "metadata": {},
   "outputs": [
    {
     "name": "stdout",
     "output_type": "stream",
     "text": [
      "['brack', 'obama', 'prime', 'minist', 'usa', 'year', '2015', '.', 'narendra', 'modi', 'prime', 'minist', 'india']\n"
     ]
    }
   ],
   "source": [
    "#Stemmer\n",
    "stemming = []\n",
    "from nltk import PorterStemmer\n",
    "for word in tokens_stopwords:\n",
    "    stemming.append(PorterStemmer().stem(word))\n",
    "print(stemming)"
   ]
  },
  {
   "cell_type": "code",
   "execution_count": null,
   "id": "4fc95405",
   "metadata": {},
   "outputs": [
    {
     "name": "stdout",
     "output_type": "stream",
     "text": [
      "['Brack', 'Obama', 'prime', 'minister', 'USA', 'year', '2015', '.', 'NARENDRA', 'MODI', 'prime', 'minister', 'INDIA']\n"
     ]
    }
   ],
   "source": [
    "#Lemmatizer\n",
    "from nltk import WordNetLemmatizer\n",
    "lma = []\n",
    "for word in tokens_stopwords:\n",
    "    lma.append(WordNetLemmatizer().lemmatize(word))\n",
    "print(lma)"
   ]
  },
  {
   "cell_type": "code",
   "execution_count": null,
   "id": "522eac3d",
   "metadata": {},
   "outputs": [
    {
     "name": "stdout",
     "output_type": "stream",
     "text": [
      "[('Brack', 'NNP'), ('Obama', 'NNP'), ('is', 'VBZ'), ('a', 'DT'), ('prime', 'JJ'), ('minister', 'NN'), ('of', 'IN'), ('USA', 'NNP'), ('in', 'IN'), ('the', 'DT'), ('year', 'NN'), ('of', 'IN'), ('2015', 'CD'), ('.', '.'), ('NARENDRA', 'NNP'), ('MODI', 'NNP'), ('is', 'VBZ'), ('the', 'DT'), ('prime', 'JJ'), ('minister', 'NN'), ('of', 'IN'), ('INDIA', 'NNP')]\n"
     ]
    }
   ],
   "source": [
    "#POS Tags\n",
    "from nltk import pos_tag\n",
    "print(pos_tag(word_tokens))"
   ]
  },
  {
   "cell_type": "markdown",
   "id": "78afafd1",
   "metadata": {},
   "source": [
    "# 2. NER"
   ]
  },
  {
   "cell_type": "code",
   "execution_count": 10,
   "id": "ab1264b2",
   "metadata": {},
   "outputs": [
    {
     "name": "stdout",
     "output_type": "stream",
     "text": [
      "['Brack']\n",
      "['Brack', 'Obama']\n",
      "['Brack', 'Obama', 'USA']\n",
      "['Brack', 'Obama', 'USA', 'NARENDRA']\n",
      "['Brack', 'Obama', 'USA', 'NARENDRA', 'INDIA']\n"
     ]
    }
   ],
   "source": [
    "import nltk\n",
    "from nltk import word_tokenize, pos_tag, ne_chunk\n",
    "\n",
    "input = \"Brack Obama is a prime minister of USA in the year of 2015. NARENDRA MODI is the prime minister of INDIA\"\n",
    "ner = ne_chunk(pos_tag(word_tokenize(input)))\n",
    "#print(ner)\n",
    "from nltk.tree import Tree\n",
    "named_entity = []\n",
    "for subtree in ner:\n",
    "    if isinstance(subtree, Tree):\n",
    "        entity = \"\".join([token for token, pos in subtree.leaves()])\n",
    "        named_entity.append(entity)\n",
    "        print(named_entity)"
   ]
  },
  {
   "cell_type": "code",
   "execution_count": 11,
   "id": "ef4db444",
   "metadata": {},
   "outputs": [
    {
     "name": "stdout",
     "output_type": "stream",
     "text": [
      "['Barack Obama']\n",
      "['Barack Obama', 'USA']\n",
      "['Barack Obama', 'USA', 'the year']\n",
      "['Barack Obama', 'USA', 'the year', '2015.PM MODI']\n",
      "['Barack Obama', 'USA', 'the year', '2015.PM MODI', 'INDIA']\n"
     ]
    }
   ],
   "source": [
    "#pip install spacy\n",
    "import spacy\n",
    "nlp = spacy.load(\"en_core_web_sm\")\n",
    "text = \"Barack Obama went as a prime minister of USA in the year of 2015.PM MODI is the prime minister of INDIA.\"\n",
    "doc = nlp(text)\n",
    "named_entity = []\n",
    "for ent in doc.ents:\n",
    "    named_entity.append(ent.text)\n",
    "    print(named_entity)"
   ]
  },
  {
   "cell_type": "markdown",
   "id": "b823f20f",
   "metadata": {},
   "source": [
    "# 3. NER USING SPACY"
   ]
  },
  {
   "cell_type": "code",
   "execution_count": 7,
   "id": "0a08f66a",
   "metadata": {},
   "outputs": [
    {
     "name": "stdout",
     "output_type": "stream",
     "text": [
      "['Barack Obama']\n",
      "['Barack Obama', 'USA']\n",
      "['Barack Obama', 'USA', 'the year']\n",
      "['Barack Obama', 'USA', 'the year', '2015.PM MODI']\n",
      "['Barack Obama', 'USA', 'the year', '2015.PM MODI', 'INDIA']\n"
     ]
    }
   ],
   "source": [
    "#pip install spacy\n",
    "import spacy\n",
    "nlp = spacy.load(\"en_core_web_sm\")\n",
    "text = \"Barack Obama went as a prime minister of USA in the year of 2015.PM MODI is the prime minister of INDIA.\"\n",
    "doc = nlp(text)\n",
    "named_entity = []\n",
    "for ent in doc.ents:\n",
    "    named_entity.append(ent.text)\n",
    "    print(named_entity)"
   ]
  },
  {
   "cell_type": "markdown",
   "id": "6e3d685a",
   "metadata": {},
   "source": [
    "# 4. PREDICTIVE ANALYSIS"
   ]
  },
  {
   "cell_type": "code",
   "execution_count": 9,
   "id": "64fe12c2",
   "metadata": {},
   "outputs": [
    {
     "name": "stdout",
     "output_type": "stream",
     "text": [
      "['appl boy cat', 'appl cat dog', 'dog egg fan']\n",
      "<Compressed Sparse Row sparse matrix of dtype 'float64'\n",
      "\twith 9 stored elements and shape (3, 6)>\n",
      "  Coords\tValues\n",
      "  (0, 0)\t0.5178561161676974\n",
      "  (0, 1)\t0.680918560398684\n",
      "  (0, 2)\t0.5178561161676974\n",
      "  (1, 0)\t0.5773502691896257\n",
      "  (1, 2)\t0.5773502691896257\n",
      "  (1, 3)\t0.5773502691896257\n",
      "  (2, 3)\t0.4736296010332684\n",
      "  (2, 4)\t0.6227660078332259\n",
      "  (2, 5)\t0.6227660078332259\n"
     ]
    }
   ],
   "source": [
    "# TF-IDF\n",
    "from nltk import word_tokenize\n",
    "from nltk.corpus import stopwords\n",
    "from nltk.stem import PorterStemmer\n",
    "#pip install scikit-learn\n",
    "from sklearn.feature_extraction.text import TfidfVectorizer\n",
    "\n",
    "stopwords = set(stopwords.words('english'))\n",
    "ps = PorterStemmer()\n",
    "vector = TfidfVectorizer()\n",
    "\n",
    "documents= [ \"apple boy cat\", \"apple cat dog\", \"dog egg fan\" ]\n",
    "\n",
    "preprocessed = []\n",
    "for doc in documents:\n",
    "    tokenization = word_tokenize(doc)\n",
    "    stop = [ps.stem(word) for word in tokenization if word not in stopwords]\n",
    "    preprocessed.append(\" \".join(stop))\n",
    "print(preprocessed)\n",
    "word_score = vector.fit_transform(preprocessed)\n",
    "print(word_score)"
   ]
  },
  {
   "cell_type": "markdown",
   "id": "c4f1008a",
   "metadata": {},
   "source": [
    "# 5. SIMPLE LINEAR REGRESSION"
   ]
  },
  {
   "cell_type": "code",
   "execution_count": 13,
   "id": "aa456dca",
   "metadata": {},
   "outputs": [
    {
     "data": {
      "image/png": "[encoded data removed]",
      "text/plain": [
       "<Figure size 640x480 with 1 Axes>"
      ]
     },
     "metadata": {},
     "output_type": "display_data"
    }
   ],
   "source": [
    "import matplotlib.pyplot as plt\n",
    "\n",
    "x = [1,2,3,4,5,6,7,8,9]\n",
    "y = [4,7,1,2,4,5,7,8,5]\n",
    "\n",
    "def slr(x):\n",
    "    return slope * x + intercept\n",
    "\n",
    "from scipy import stats\n",
    "slope, intercept, r, p, std_err = stats.linregress(x,y)\n",
    "\n",
    "model = list(map(slr, x))\n",
    "plt.plot(x, model)\n",
    "\n",
    "plt.scatter(x,y)\n",
    "plt.show()"
   ]
  },
  {
   "cell_type": "markdown",
   "id": "46496e9a",
   "metadata": {},
   "source": [
    "# 6. MULTIPLE LINEAR REGRESSION"
   ]
  },
  {
   "cell_type": "code",
   "execution_count": 4,
   "id": "16bf792d",
   "metadata": {},
   "outputs": [
    {
     "name": "stdout",
     "output_type": "stream",
     "text": [
      "      Id  SepalLengthCm  SepalWidthCm  PetalLengthCm  PetalWidthCm  \\\n",
      "0      1            5.1           3.5            1.4           0.2   \n",
      "1      2            4.9           3.0            1.4           0.2   \n",
      "2      3            4.7           3.2            1.3           0.2   \n",
      "3      4            4.6           3.1            1.5           0.2   \n",
      "4      5            5.0           3.6            1.4           0.2   \n",
      "..   ...            ...           ...            ...           ...   \n",
      "145  146            6.7           3.0            5.2           2.3   \n",
      "146  147            6.3           2.5            5.0           1.9   \n",
      "147  148            6.5           3.0            5.2           2.0   \n",
      "148  149            6.2           3.4            5.4           2.3   \n",
      "149  150            5.9           3.0            5.1           1.8   \n",
      "\n",
      "            Species  \n",
      "0       Iris-setosa  \n",
      "1       Iris-setosa  \n",
      "2       Iris-setosa  \n",
      "3       Iris-setosa  \n",
      "4       Iris-setosa  \n",
      "..              ...  \n",
      "145  Iris-virginica  \n",
      "146  Iris-virginica  \n",
      "147  Iris-virginica  \n",
      "148  Iris-virginica  \n",
      "149  Iris-virginica  \n",
      "\n",
      "[150 rows x 6 columns]\n",
      "[5.18647033 2.11274976 5.3052871  3.82737886 1.79742616 5.77781616\n",
      " 4.75324264 4.93055512 5.40308418 5.54109529 4.22130519 7.37362849\n",
      " 2.13285678 4.89125375 1.40349983 1.52140393 3.51205527 5.32448145\n",
      " 4.06318706 3.82737886 5.54200797 4.14270246 1.81753318 1.62011368\n",
      " 3.65006638 4.71394127 4.49732742 4.26060656 4.9104481  3.88587457]\n"
     ]
    }
   ],
   "source": [
    "import pandas as pd\n",
    "iris = pd.read_csv(r\"C:\\Users\\saksh\\Downloads\\IRIS.csv\")\n",
    "print(iris)\n",
    "import numpy as np\n",
    "\n",
    "x = iris[['SepalLengthCm', 'SepalWidthCm']]\n",
    "y = iris.PetalLengthCm\n",
    "\n",
    "from sklearn.model_selection import train_test_split\n",
    "x_train, x_test, y_train, y_test = train_test_split(x,y,test_size=0.2)\n",
    "\n",
    "from sklearn.linear_model import LinearRegression\n",
    "LR = LinearRegression()\n",
    "training = LR.fit(x_train, y_train)\n",
    "y_pred = LR.predict(x_test)\n",
    "print(y_pred)"
   ]
  },
  {
   "cell_type": "markdown",
   "id": "ffb5bcae",
   "metadata": {},
   "source": [
    "# 7.SLR & MLR WITH PERFORMANCE MATRICS"
   ]
  },
  {
   "cell_type": "code",
   "execution_count": 8,
   "id": "23b0b581",
   "metadata": {},
   "outputs": [
    {
     "name": "stdout",
     "output_type": "stream",
     "text": [
      "      Id  SepalLengthCm  SepalWidthCm  PetalLengthCm  PetalWidthCm  \\\n",
      "0      1            5.1           3.5            1.4           0.2   \n",
      "1      2            4.9           3.0            1.4           0.2   \n",
      "2      3            4.7           3.2            1.3           0.2   \n",
      "3      4            4.6           3.1            1.5           0.2   \n",
      "4      5            5.0           3.6            1.4           0.2   \n",
      "..   ...            ...           ...            ...           ...   \n",
      "145  146            6.7           3.0            5.2           2.3   \n",
      "146  147            6.3           2.5            5.0           1.9   \n",
      "147  148            6.5           3.0            5.2           2.0   \n",
      "148  149            6.2           3.4            5.4           2.3   \n",
      "149  150            5.9           3.0            5.1           1.8   \n",
      "\n",
      "            Species  \n",
      "0       Iris-setosa  \n",
      "1       Iris-setosa  \n",
      "2       Iris-setosa  \n",
      "3       Iris-setosa  \n",
      "4       Iris-setosa  \n",
      "..              ...  \n",
      "145  Iris-virginica  \n",
      "146  Iris-virginica  \n",
      "147  Iris-virginica  \n",
      "148  Iris-virginica  \n",
      "149  Iris-virginica  \n",
      "\n",
      "[150 rows x 6 columns]\n",
      "[1.9108173  3.67966328 4.27541807 3.76233392 4.14063269 5.22341427\n",
      " 4.03190468 2.01954531 1.41615155 4.17432904 5.26474959 2.45445735\n",
      " 1.48354424 3.39481457 5.29844593 3.63832796 0.99651746 5.79311169\n",
      " 4.07324    4.52657044 5.33214228 1.62596859 4.05796205 1.80208929\n",
      " 4.10693635 4.73638749 6.84983589 4.66135582 3.52959995 1.50960161] \n",
      "\n",
      "Mean Absoute Error:  0.5811231160643323\n",
      "Mean Squeared Error:  0.49233631519309257\n",
      "RMSE:  0.7016668120932417\n",
      "[2.4345722  1.12920867 2.24809169 1.50216968 3.55345522 2.4345722\n",
      " 2.99401371 3.55345522 3.73993572 5.04529925 2.99401371 5.41826026\n",
      " 1.50216968 4.67233824 2.06161119 6.53714328 5.79122127 2.99401371\n",
      " 3.55345522 5.04529925 2.4345722  6.72362379 5.04529925 7.6560263\n",
      " 3.18049421 2.24809169 4.48585774 1.31568917 4.48585774 5.23177975] \n",
      "\n",
      "Mean Absoute Error:  0.7077253249351422\n",
      "Mean Squeared Error:  0.7574783727619157\n",
      "RMSE:  0.8703323346641303\n"
     ]
    }
   ],
   "source": [
    "#PROGRAM 7: SLR & MLR with Performance Metrics:\n",
    "import pandas as pd\n",
    "iris = pd.read_csv(r\"C:\\Users\\saksh\\Downloads\\IRIS.csv\")\n",
    "print(iris)\n",
    "\n",
    "import numpy as np\n",
    "\n",
    "x = iris[['SepalLengthCm', 'SepalWidthCm']]\n",
    "y = iris.PetalLengthCm\n",
    "\n",
    "from sklearn.model_selection import train_test_split\n",
    "x_train, x_test, y_train, y_test = train_test_split(x,y,test_size=0.2)\n",
    "\n",
    "from sklearn.linear_model import LinearRegression\n",
    "LR = LinearRegression()\n",
    "\n",
    "training = LR.fit(x_train, y_train)\n",
    "y_pred = LR.predict(x_test)\n",
    "print(y_pred, \"\\n\")\n",
    "\n",
    "#pip install numpy\n",
    "import numpy as np\n",
    "from sklearn import metrics\n",
    "\n",
    "MAE = metrics.mean_absolute_error(y_test, y_pred)\n",
    "print(\"Mean Absoute Error: \", MAE)\n",
    "MSE = metrics.mean_squared_error(y_test, y_pred)\n",
    "print(\"Mean Squeared Error: \", MSE)\n",
    "RMSE = np.sqrt(metrics.mean_squared_error(y_test, y_pred))\n",
    "print(\"RMSE: \", RMSE)\n",
    "\n",
    "\n",
    "import numpy as np\n",
    "\n",
    "x = iris[['SepalLengthCm']]\n",
    "y = iris.PetalLengthCm\n",
    "\n",
    "from sklearn.model_selection import train_test_split\n",
    "x_train, x_test, y_train, y_test = train_test_split(x,y,test_size=0.2)\n",
    "\n",
    "from sklearn.linear_model import LinearRegression\n",
    "LR = LinearRegression()\n",
    "\n",
    "training = LR.fit(x_train, y_train)\n",
    "y_pred = LR.predict(x_test)\n",
    "print(y_pred, \"\\n\")\n",
    "\n",
    "#pip install numpy\n",
    "import numpy as np\n",
    "from sklearn import metrics\n",
    "\n",
    "MAE = metrics.mean_absolute_error(y_test, y_pred)\n",
    "print(\"Mean Absoute Error: \", MAE)\n",
    "MSE = metrics.mean_squared_error(y_test, y_pred)\n",
    "print(\"Mean Squeared Error: \", MSE)\n",
    "RMSE = np.sqrt(metrics.mean_squared_error(y_test, y_pred))\n",
    "print(\"RMSE: \", RMSE)"
   ]
  },
  {
   "cell_type": "markdown",
   "id": "253a9aba",
   "metadata": {},
   "source": [
    "# 8. KNN"
   ]
  },
  {
   "cell_type": "code",
   "execution_count": 11,
   "id": "6ec089de",
   "metadata": {},
   "outputs": [
    {
     "name": "stdout",
     "output_type": "stream",
     "text": [
      "[0 1 1 2 1 2 0 0 2 2 2 1 0 0 1 2 2 0 2 0 1 1 0 2 2 0 1 1 1 1]\n",
      "\n",
      "Accuracy :  0.9666666666666667\n",
      "Precision :  0.9696969696969697\n",
      "Recall :  0.9696969696969697\n",
      "F1-SCORE :  0.9682539682539683\n",
      "AUC :  0.974884370015949\n"
     ]
    }
   ],
   "source": [
    "from sklearn import datasets\n",
    "iris = datasets.load_iris()\n",
    "\n",
    "x = iris.data\n",
    "y = iris.target\n",
    "\n",
    "from sklearn.model_selection import train_test_split\n",
    "x_train, x_test, y_train, y_test = train_test_split(x,y,train_size=0.8)\n",
    "\n",
    "from sklearn.neighbors import KNeighborsClassifier\n",
    "knn = KNeighborsClassifier()\n",
    "\n",
    "train = knn.fit(x_train, y_train)\n",
    "y_pred = knn.predict(x_test)\n",
    "print(y_pred)\n",
    "y_auc = knn.predict_proba(x_test)\n",
    "\n",
    "from sklearn.metrics import accuracy_score, precision_score, recall_score, f1_score, roc_auc_score\n",
    "Accuracy = accuracy_score(y_test, y_pred)\n",
    "Precision = precision_score(y_test, y_pred, average='macro')\n",
    "Recall = recall_score(y_test, y_pred, average='macro')\n",
    "f1 = f1_score(y_test, y_pred, average='macro')\n",
    "auc = roc_auc_score(y_test, y_auc, multi_class='ovr')\n",
    "\n",
    "print(\"\\nAccuracy : \", Accuracy)\n",
    "print(\"Precision : \", Precision)\n",
    "print(\"Recall : \", Recall)\n",
    "print(\"F1-SCORE : \", f1)\n",
    "print(\"AUC : \", auc)"
   ]
  },
  {
   "cell_type": "markdown",
   "id": "74b3ef35",
   "metadata": {},
   "source": [
    "# 9.DECISION TREE"
   ]
  },
  {
   "cell_type": "code",
   "execution_count": 12,
   "id": "3afa2880",
   "metadata": {},
   "outputs": [
    {
     "name": "stdout",
     "output_type": "stream",
     "text": [
      "[1 2 0 0 2 2 0 2 0 1 1 2 1 2 2 2 1 1 2 0 1 1 2 0 0 1 2 2 2 1]\n",
      "\n",
      "Accuracy :  0.9666666666666667\n",
      "Precision :  0.9666666666666667\n",
      "Recall :  0.9761904761904763\n",
      "F1-SCORE :  0.9701104613385314\n",
      "AUC :  0.9801587301587302\n"
     ]
    }
   ],
   "source": [
    "from sklearn import datasets\n",
    "iris = datasets.load_iris()\n",
    "\n",
    "x = iris.data\n",
    "y = iris.target\n",
    "\n",
    "from sklearn.model_selection import train_test_split\n",
    "x_train, x_test, y_train, y_test = train_test_split(x,y,train_size=0.8)\n",
    "\n",
    "from sklearn.tree import DecisionTreeClassifier\n",
    "DT = DecisionTreeClassifier()\n",
    "\n",
    "train = DT.fit(x_train, y_train)\n",
    "y_pred = DT.predict(x_test)\n",
    "print(y_pred)\n",
    "y_auc = DT.predict_proba(x_test)\n",
    "\n",
    "from sklearn.metrics import accuracy_score, precision_score, recall_score, f1_score, roc_auc_score\n",
    "Accuracy = accuracy_score(y_test, y_pred)\n",
    "Precision = precision_score(y_test, y_pred, average='macro')\n",
    "Recall = recall_score(y_test, y_pred, average='macro')\n",
    "f1 = f1_score(y_test, y_pred, average='macro')\n",
    "auc = roc_auc_score(y_test, y_auc, multi_class='ovr')\n",
    "\n",
    "print(\"\\nAccuracy : \", Accuracy)\n",
    "print(\"Precision : \", Precision)\n",
    "print(\"Recall : \", Recall)\n",
    "print(\"F1-SCORE : \", f1)\n",
    "print(\"AUC : \", auc)"
   ]
  },
  {
   "cell_type": "markdown",
   "id": "fbc6a8c7",
   "metadata": {},
   "source": [
    "# 10. RANDOM FOREST"
   ]
  },
  {
   "cell_type": "code",
   "execution_count": 13,
   "id": "f6a39fc3",
   "metadata": {},
   "outputs": [
    {
     "name": "stdout",
     "output_type": "stream",
     "text": [
      "[1 0 0 1 2 2 1 1 1 0 0 1 1 0 2 1 1 1 0 0 1 2 0 1 0 2 0 0 1 0]\n",
      "\n",
      "Accuracy :  0.9333333333333333\n",
      "Precision :  0.9076923076923077\n",
      "Recall :  0.9076923076923077\n",
      "F1-SCORE :  0.9076923076923077\n",
      "AUC :  0.9721628959276017\n"
     ]
    }
   ],
   "source": [
    "from sklearn import datasets\n",
    "iris = datasets.load_iris()\n",
    "\n",
    "x = iris.data\n",
    "y = iris.target\n",
    "\n",
    "from sklearn.model_selection import train_test_split\n",
    "x_train, x_test, y_train, y_test = train_test_split(x,y,train_size=0.8)\n",
    "\n",
    "from sklearn.ensemble import RandomForestClassifier\n",
    "RF = RandomForestClassifier()\n",
    "\n",
    "train = RF.fit(x_train, y_train)\n",
    "y_pred = RF.predict(x_test)\n",
    "print(y_pred)\n",
    "y_auc = RF.predict_proba(x_test)\n",
    "\n",
    "from sklearn.metrics import accuracy_score, precision_score, recall_score, f1_score, roc_auc_score\n",
    "Accuracy = accuracy_score(y_test, y_pred)\n",
    "Precision = precision_score(y_test, y_pred, average='macro')\n",
    "Recall = recall_score(y_test, y_pred, average='macro')\n",
    "f1 = f1_score(y_test, y_pred, average='macro')\n",
    "auc = roc_auc_score(y_test, y_auc, multi_class='ovr')\n",
    "\n",
    "print(\"\\nAccuracy : \", Accuracy)\n",
    "print(\"Precision : \", Precision)\n",
    "print(\"Recall : \", Recall)\n",
    "print(\"F1-SCORE : \", f1)\n",
    "print(\"AUC : \", auc)"
   ]
  },
  {
   "cell_type": "markdown",
   "id": "441f6d57",
   "metadata": {},
   "source": [
    "# 11. SUPPORT VECTOR MACHINE"
   ]
  },
  {
   "cell_type": "code",
   "execution_count": 14,
   "id": "ea0b955b",
   "metadata": {},
   "outputs": [
    {
     "name": "stdout",
     "output_type": "stream",
     "text": [
      "[2 2 1 2 2 2 2 2 1 1 2 1 2 0 1 1 1 2 0 0 0 1 2 1 1 0 0 2 2 0]\n",
      "\n",
      "Accuracy :  1.0\n",
      "Precision :  1.0\n",
      "Recall :  1.0\n",
      "F1-SCORE :  1.0\n",
      "AUC :  1.0\n"
     ]
    }
   ],
   "source": [
    "#Program 11: SVM\n",
    "\n",
    "from sklearn import datasets\n",
    "iris = datasets.load_iris()\n",
    "\n",
    "x = iris.data\n",
    "y = iris.target\n",
    "\n",
    "from sklearn.model_selection import train_test_split\n",
    "x_train, x_test, y_train, y_test = train_test_split(x,y,train_size=0.8)\n",
    "\n",
    "from sklearn import svm\n",
    "svc_cl = svm.SVC(probability=True)\n",
    "\n",
    "train = svc_cl.fit(x_train, y_train)\n",
    "y_pred = svc_cl.predict(x_test)\n",
    "print(y_pred)\n",
    "y_auc = svc_cl.predict_proba(x_test)\n",
    "\n",
    "from sklearn.metrics import accuracy_score, precision_score, recall_score, f1_score, roc_auc_score\n",
    "Accuracy = accuracy_score(y_test, y_pred)\n",
    "Precision = precision_score(y_test, y_pred, average='macro')\n",
    "Recall = recall_score(y_test, y_pred, average='macro')\n",
    "f1 = f1_score(y_test, y_pred, average='macro')\n",
    "auc = roc_auc_score(y_test, y_auc, multi_class='ovr')\n",
    "\n",
    "print(\"\\nAccuracy : \", Accuracy)\n",
    "print(\"Precision : \", Precision)\n",
    "print(\"Recall : \", Recall)\n",
    "print(\"F1-SCORE : \", f1)\n",
    "print(\"AUC : \", auc)"
   ]
  },
  {
   "cell_type": "markdown",
   "id": "41a658be",
   "metadata": {},
   "source": [
    "# K-Means Clustering Algorithm"
   ]
  },
  {
   "cell_type": "code",
   "execution_count": 5,
   "id": "8d24b670",
   "metadata": {},
   "outputs": [
    {
     "data": {
      "image/png": "[encoded data removed]",
      "text/plain": [
       "<Figure size 640x480 with 1 Axes>"
      ]
     },
     "metadata": {},
     "output_type": "display_data"
    }
   ],
   "source": [
    "import pandas as pd\n",
    "iris = pd.read_csv(r\"C:\\Users\\saksh\\Downloads\\IRIS.csv\")\n",
    "x = iris.iloc[:,:-1].values\n",
    "y = iris.iloc[:, -1].values\n",
    "\n",
    "from sklearn.model_selection import train_test_split\n",
    "x_train, x_test, y_train, y_test = train_test_split(x,y,test_size=0.2)\n",
    "\n",
    "from sklearn.cluster import KMeans\n",
    "kmeans = KMeans(n_clusters = 3)\n",
    "y_pred = kmeans.fit_predict(x)\n",
    "# print(kmeans.cluster_centers_)\n",
    "\n",
    "import matplotlib.pyplot as plt\n",
    "plt.scatter(x[y_pred == 0,0], x[y_pred == 0,1], s=50, c='red', label='Setosa')\n",
    "plt.scatter(x[y_pred == 1,0], x[y_pred == 1,1], s=50, c='green', label='Versicolor')\n",
    "plt.scatter(x[y_pred == 2,0], x[y_pred == 2,1], s=50, c='blue', label='Verginica')\n",
    "plt.scatter(kmeans.cluster_centers_[:,0], kmeans.cluster_centers_[:,1], s=150, c='yellow', label='Centroids')\n",
    "\n",
    "plt.legend()\n",
    "plt.show()"
   ]
  },
  {
   "cell_type": "code",
   "execution_count": null,
   "id": "c3493a63",
   "metadata": {},
   "outputs": [],
   "source": []
  }
 ],
 "metadata": {
  "kernelspec": {
   "display_name": "Python 3",
   "language": "python",
   "name": "python3"
  },
  "language_info": {
   "codemirror_mode": {
    "name": "ipython",
    "version": 3
   },
   "file_extension": ".py",
   "mimetype": "text/x-python",
   "name": "python",
   "nbconvert_exporter": "python",
   "pygments_lexer": "ipython3",
   "version": "3.13.6"
  }
 },
 "nbformat": 4,
 "nbformat_minor": 5
}
