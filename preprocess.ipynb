{
 "cells": [
  {
   "cell_type": "markdown",
   "id": "54e96960",
   "metadata": {},
   "source": [
    "# DATAPROCESSING"
   ]
  },
  {
   "cell_type": "code",
   "execution_count": 5,
   "id": "580862b7",
   "metadata": {},
   "outputs": [
    {
     "name": "stdout",
     "output_type": "stream",
     "text": [
      "Brack Obama is a prime minister of USA in the year of 2015. PM MODI is the prime minister of INDIA\n"
     ]
    }
   ],
   "source": [
    "input = \"Brack Obama is a prime minister of USA in the year of 2015. PM MODI is the prime minister of INDIA\"\n",
    "print(input)"
   ]
  },
  {
   "cell_type": "code",
   "execution_count": 6,
   "id": "c4e76b31",
   "metadata": {},
   "outputs": [
    {
     "name": "stdout",
     "output_type": "stream",
     "text": [
      "LOWERCSE =  brack obama is a prime minister of usa in the year of 2015. pm modi is the prime minister of india\n",
      "REGULAR EXP1 =  brack obama is a prime minister of usa in the year of 2025. pm modi is the prime minister of india\n",
      "REGULAR EXP2 =  *r*** o**** *s * pr*** **n*st*r o* us* *n t** y**r o* 2015. p* *o** *s t** pr*** **n*st*r o* *n***\n",
      "REGULAR EXP3 =  brack obama is a prime minister of usa in the year of 2015. pm modi is the prime minister of india\n"
     ]
    }
   ],
   "source": [
    "#(1)lowercase\n",
    "lowercase = input.lower()\n",
    "print(\"LOWERCSE = \", lowercase)\n",
    "\n",
    "#re\n",
    "#pip install re\n",
    "import re\n",
    "lowercase_re = re.sub('2015', '2025', lowercase)\n",
    "print(\"REGULAR EXP1 = \", lowercase_re)\n",
    "lowercase_re = re.sub('[a-m]', '*', lowercase)\n",
    "print(\"REGULAR EXP2 = \", lowercase_re)\n",
    "lowercase_re = re.sub('/d', '-', lowercase)\n",
    "print(\"REGULAR EXP3 = \", lowercase_re)"
   ]
  },
  {
   "cell_type": "code",
   "execution_count": 7,
   "id": "e462d6e5",
   "metadata": {},
   "outputs": [
    {
     "name": "stdout",
     "output_type": "stream",
     "text": [
      "WORD TOKENS =  ['Brack', 'Obama', 'is', 'a', 'prime', 'minister', 'of', 'USA', 'in', 'the', 'year', 'of', '2015', '.', 'PM', 'MODI', 'is', 'the', 'prime', 'minister', 'of', 'INDIA']\n",
      "22\n",
      "SENT TOKENS =  ['Brack Obama is a prime minister of USA in the year of 2015.', 'PM MODI is the prime minister of INDIA']\n",
      "2\n"
     ]
    }
   ],
   "source": [
    "#(2)Tokenization\n",
    "import nltk\n",
    "from nltk import word_tokenize, sent_tokenize\n",
    "\n",
    "word_tokens = word_tokenize(input)\n",
    "print(\"WORD TOKENS = \", word_tokens)\n",
    "print(len(word_tokens))\n",
    "sent_tokens = sent_tokenize(input)\n",
    "print(\"SENT TOKENS = \", sent_tokens)\n",
    "print(len(sent_tokens))"
   ]
  },
  {
   "cell_type": "code",
   "execution_count": 8,
   "id": "73257098",
   "metadata": {},
   "outputs": [
    {
     "name": "stdout",
     "output_type": "stream",
     "text": [
      "Brack Obama prime minister USA year 2015 . PM MODI prime minister INDIA\n"
     ]
    }
   ],
   "source": [
    "#(3)stopwords Removal\n",
    "from nltk.corpus import stopwords\n",
    "#print(stopwords.fileids())\n",
    "stopwords = set(stopwords.words('english'))\n",
    "#print(\"\\n\", stopwords)\n",
    "\n",
    "tokens_stopwords = []\n",
    "for token in word_tokens:\n",
    "    if token not in stopwords:\n",
    "        tokens_stopwords.append(token)\n",
    "print(' '.join(tokens_stopwords))"
   ]
  },
  {
   "cell_type": "code",
   "execution_count": 9,
   "id": "a9a4ab25",
   "metadata": {},
   "outputs": [
    {
     "name": "stdout",
     "output_type": "stream",
     "text": [
      "['brack', 'obama', 'prime', 'minist', 'usa', 'year', '2015', '.', 'pm', 'modi', 'prime', 'minist', 'india']\n"
     ]
    }
   ],
   "source": [
    "#Stemmer\n",
    "stemming = []\n",
    "from nltk import PorterStemmer\n",
    "for word in tokens_stopwords:\n",
    "    stemming.append(PorterStemmer().stem(word))\n",
    "print(stemming)"
   ]
  },
  {
   "cell_type": "code",
   "execution_count": 10,
   "id": "ea6cbf3b",
   "metadata": {},
   "outputs": [
    {
     "name": "stdout",
     "output_type": "stream",
     "text": [
      "['Brack', 'Obama', 'prime', 'minister', 'USA', 'year', '2015', '.', 'PM', 'MODI', 'prime', 'minister', 'INDIA']\n"
     ]
    }
   ],
   "source": [
    "#Lemmatizer\n",
    "from nltk import WordNetLemmatizer\n",
    "lma = []\n",
    "for word in tokens_stopwords:\n",
    "    lma.append(WordNetLemmatizer().lemmatize(word))\n",
    "print(lma)"
   ]
  },
  {
   "cell_type": "code",
   "execution_count": 11,
   "id": "ef6a4b69",
   "metadata": {},
   "outputs": [
    {
     "name": "stdout",
     "output_type": "stream",
     "text": [
      "[('Brack', 'NNP'), ('Obama', 'NNP'), ('is', 'VBZ'), ('a', 'DT'), ('prime', 'JJ'), ('minister', 'NN'), ('of', 'IN'), ('USA', 'NNP'), ('in', 'IN'), ('the', 'DT'), ('year', 'NN'), ('of', 'IN'), ('2015', 'CD'), ('.', '.'), ('PM', 'NNP'), ('MODI', 'NNP'), ('is', 'VBZ'), ('the', 'DT'), ('prime', 'JJ'), ('minister', 'NN'), ('of', 'IN'), ('INDIA', 'NNP')]\n"
     ]
    }
   ],
   "source": [
    "#POS Tags\n",
    "from nltk import pos_tag\n",
    "print(pos_tag(word_tokens))"
   ]
  },
  {
   "cell_type": "markdown",
   "id": "2a6fd60f",
   "metadata": {},
   "source": [
    "# NER"
   ]
  },
  {
   "cell_type": "code",
   "execution_count": 12,
   "id": "6304494a",
   "metadata": {},
   "outputs": [
    {
     "name": "stdout",
     "output_type": "stream",
     "text": [
      "Brack Obama is a prime minister of USA in the year of 2015. PM MODI is the prime minister of INDIA\n",
      "(S\n",
      "  (PERSON Brack/NNP)\n",
      "  (ORGANIZATION Obama/NNP)\n",
      "  is/VBZ\n",
      "  a/DT\n",
      "  prime/JJ\n",
      "  minister/NN\n",
      "  of/IN\n",
      "  (ORGANIZATION USA/NNP)\n",
      "  in/IN\n",
      "  the/DT\n",
      "  year/NN\n",
      "  of/IN\n",
      "  2015/CD\n",
      "  ./.\n",
      "  PM/NNP\n",
      "  MODI/NNP\n",
      "  is/VBZ\n",
      "  the/DT\n",
      "  prime/JJ\n",
      "  minister/NN\n",
      "  of/IN\n",
      "  (GPE INDIA/NNP))\n"
     ]
    }
   ],
   "source": [
    "import nltk\n",
    "from nltk import word_tokenize, pos_tag, ne_chunk\n",
    "\n",
    "input = \"Brack Obama is a prime minister of USA in the year of 2015. PM MODI is the prime minister of INDIA\"\n",
    "print(input)\n",
    "tokens = word_tokenize(input)\n",
    "pos = pos_tag(tokens)\n",
    "ner = ne_chunk(pos)\n",
    "print (ne_chunk(pos))"
   ]
  },
  {
   "cell_type": "code",
   "execution_count": 13,
   "id": "c8224f2d",
   "metadata": {},
   "outputs": [
    {
     "name": "stdout",
     "output_type": "stream",
     "text": [
      "Barack Obama is a prime minister of USA in the year of 2015. PM MODI is the prime minister of INDIA\n",
      "(S\n",
      "  (PERSON Barack/NNP)\n",
      "  (ORGANIZATION Obama/NNP)\n",
      "  is/VBZ\n",
      "  a/DT\n",
      "  prime/JJ\n",
      "  minister/NN\n",
      "  of/IN\n",
      "  (ORGANIZATION USA/NNP)\n",
      "  in/IN\n",
      "  the/DT\n",
      "  year/NN\n",
      "  of/IN\n",
      "  2015/CD\n",
      "  ./.\n",
      "  PM/NNP\n",
      "  MODI/NNP\n",
      "  is/VBZ\n",
      "  the/DT\n",
      "  prime/JJ\n",
      "  minister/NN\n",
      "  of/IN\n",
      "  (GPE INDIA/NNP))\n",
      "[('Barack', 'PERSON'), ('Obama', 'ORGANIZATION'), ('USA', 'ORGANIZATION'), ('INDIA', 'GPE')]\n"
     ]
    }
   ],
   "source": [
    "import nltk\n",
    "from nltk import word_tokenize, pos_tag, ne_chunk\n",
    "from nltk.tree import Tree\n",
    "\n",
    "# Input sentence\n",
    "input = \"Barack Obama is a prime minister of USA in the year of 2015. PM MODI is the prime minister of INDIA\"\n",
    "print(input)\n",
    "\n",
    "# Tokenize, POS Tag, and Named Entity Recognition\n",
    "tokens = word_tokenize(input)\n",
    "pos = pos_tag(tokens)\n",
    "ner = ne_chunk(pos)\n",
    "\n",
    "print(ner)\n",
    "\n",
    "# Extract Named Entities\n",
    "named_entity = []\n",
    "\n",
    "for subtree in ner:\n",
    "    if isinstance(subtree, Tree):\n",
    "        entity = \" \".join([token for token, pos in subtree.leaves()])\n",
    "        entity_type = subtree.label()\n",
    "        named_entity.append((entity, entity_type))\n",
    "\n",
    "print(named_entity)"
   ]
  },
  {
   "cell_type": "code",
   "execution_count": 14,
   "id": "ae14815b",
   "metadata": {},
   "outputs": [
    {
     "name": "stdout",
     "output_type": "stream",
     "text": [
      "[('Barack', 'PERSON'), ('Obama', 'ORGANIZATION'), ('USA', 'ORGANIZATION'), ('INDIA', 'GPE')]\n"
     ]
    }
   ],
   "source": [
    "import nltk\n",
    "from nltk import word_tokenize, pos_tag, ne_chunk\n",
    "from nltk.tree import Tree\n",
    "\n",
    "# Input text\n",
    "text = \"Barack Obama is the prime minister of USA in the year of 2015. PM MODI is the prime minister of INDIA.\"\n",
    "\n",
    "# Tokenize and tag\n",
    "tokens = word_tokenize(text)\n",
    "pos_tags = pos_tag(tokens)\n",
    "ner_tree = ne_chunk(pos_tags)\n",
    "\n",
    "# Extract named entities\n",
    "named_entities = []\n",
    "\n",
    "for subtree in ner_tree:\n",
    "    if isinstance(subtree, Tree):\n",
    "        entity = \" \".join([token for token, pos in subtree.leaves()])\n",
    "        entity_type = subtree.label()\n",
    "        named_entities.append((entity, entity_type))\n",
    "\n",
    "print(named_entities)"
   ]
  },
  {
   "cell_type": "code",
   "execution_count": 15,
   "id": "7b5cf331",
   "metadata": {},
   "outputs": [
    {
     "name": "stdout",
     "output_type": "stream",
     "text": [
      "(S (PERSON Barack/NNP) (ORGANIZATION Obama/NNP) is/VBZ a/DT PM/NN)\n"
     ]
    }
   ],
   "source": [
    "import nltk\n",
    "from nltk.tokenize import word_tokenize\n",
    "from nltk import pos_tag, ne_chunk\n",
    "\n",
    "text = \"Barack Obama is a PM\"\n",
    "tokens = word_tokenize(text)\n",
    "tags = pos_tag(tokens)\n",
    "ner = ne_chunk(tags)\n",
    "print(ner)"
   ]
  },
  {
   "cell_type": "code",
   "execution_count": 4,
   "id": "e3af5721",
   "metadata": {},
   "outputs": [
    {
     "name": "stdout",
     "output_type": "stream",
     "text": [
      "['Barack Obama']\n"
     ]
    }
   ],
   "source": [
    "import spacy\n",
    "nlp = spacy.load(\"en_core_web_sm\")\n",
    "text = \"Barack Obama is PM\"\n",
    "doc = nlp(text)\n",
    "NE = [ent.text for ent in doc.ents]\n",
    "print(NE)"
   ]
  },
  {
   "cell_type": "code",
   "execution_count": 5,
   "id": "5ecd8764",
   "metadata": {},
   "outputs": [
    {
     "name": "stderr",
     "output_type": "stream",
     "text": [
      "C:\\Users\\saksh\\AppData\\Roaming\\Python\\Python312\\site-packages\\nltk\\metrics\\association.py:26: UserWarning: A NumPy version >=1.23.5 and <2.3.0 is required for this version of SciPy (detected version 2.3.1)\n",
      "  from scipy.stats import fisher_exact\n"
     ]
    },
    {
     "name": "stdout",
     "output_type": "stream",
     "text": [
      "['appl boy cat', 'appl cat dog', 'dog egg fan']\n",
      "<Compressed Sparse Row sparse matrix of dtype 'float64'\n",
      "\twith 9 stored elements and shape (3, 6)>\n",
      "  Coords\tValues\n",
      "  (0, 0)\t0.5178561161676974\n",
      "  (0, 1)\t0.680918560398684\n",
      "  (0, 2)\t0.5178561161676974\n",
      "  (1, 0)\t0.5773502691896257\n",
      "  (1, 2)\t0.5773502691896257\n",
      "  (1, 3)\t0.5773502691896257\n",
      "  (2, 3)\t0.4736296010332684\n",
      "  (2, 4)\t0.6227660078332259\n",
      "  (2, 5)\t0.6227660078332259\n"
     ]
    }
   ],
   "source": [
    "#Predictive Analysis:\n",
    "#PRACTICAL 4 : TFIDF\n",
    "\n",
    "# TF-IDF\n",
    "from nltk import word_tokenize\n",
    "from nltk.corpus import stopwords\n",
    "from nltk.stem import PorterStemmer\n",
    "#pip install scikit-learn\n",
    "from sklearn.feature_extraction.text import TfidfVectorizer\n",
    "\n",
    "stopwords = set(stopwords.words('english'))\n",
    "ps = PorterStemmer()\n",
    "vector = TfidfVectorizer()\n",
    "\n",
    "documents= [ \"apple boy cat\", \"apple cat dog\", \"dog egg fan\" ]\n",
    "\n",
    "preprocessed = []\n",
    "for doc in documents:\n",
    "    tokenization = word_tokenize(doc)\n",
    "    stop = [ps.stem(word) for word in tokenization if word not in stopwords]\n",
    "    preprocessed.append(\" \".join(stop))\n",
    "print(preprocessed)\n",
    "word_score = vector.fit_transform(preprocessed)\n",
    "print(word_score)"
   ]
  }
 ],
 "metadata": {
  "kernelspec": {
   "display_name": "Python 3",
   "language": "python",
   "name": "python3"
  },
  "language_info": {
   "codemirror_mode": {
    "name": "ipython",
    "version": 3
   },
   "file_extension": ".py",
   "mimetype": "text/x-python",
   "name": "python",
   "nbconvert_exporter": "python",
   "pygments_lexer": "ipython3",
   "version": "3.12.5"
  }
 },
 "nbformat": 4,
 "nbformat_minor": 5
}
